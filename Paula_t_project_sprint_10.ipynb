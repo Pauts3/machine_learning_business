{
 "cells": [
  {
   "cell_type": "markdown",
   "id": "2a796dfa",
   "metadata": {},
   "source": [
    "# OilyGiant\n",
    "## Análisis de pozos petroleros"
   ]
  },
  {
   "cell_type": "markdown",
   "id": "6152b473",
   "metadata": {},
   "source": [
    "La compañía de extracción de petróleo OilyGiant está buscando los mejores lugares donde abrir 200 pozos nuevos de petróleo. Con un modelo de Regresión Lineal se pretende encontrar la mejor región cuyos 200 pozos más productivos generen la mayor ganancia para la empresa y tenga el menor riesgo de pérdida. "
   ]
  },
  {
   "cell_type": "markdown",
   "id": "0ac2de5c",
   "metadata": {},
   "source": [
    "## 1. Preprocesamiento de datos: "
   ]
  },
  {
   "cell_type": "code",
   "execution_count": 1,
   "id": "def611ab",
   "metadata": {},
   "outputs": [],
   "source": [
    "#Librerías utilizadas.\n",
    "\n",
    "import pandas as pd\n",
    "import numpy as np\n",
    "from sklearn.model_selection import train_test_split\n",
    "from sklearn.linear_model import LinearRegression\n",
    "from sklearn.metrics import mean_squared_error"
   ]
  },
  {
   "cell_type": "code",
   "execution_count": 2,
   "id": "cec469af",
   "metadata": {},
   "outputs": [],
   "source": [
    "# Uso en el ordenador.\n",
    "\n",
    "#data_0 = pd.read_csv('./geo_data_0.csv')\n",
    "\n",
    "#data_1 = pd.read_csv('./geo_data_1.csv')\n",
    "\n",
    "#data_2 = pd.read_csv('./geo_data_2.csv')\n",
    "\n",
    "# Revisión externa.\n",
    "\n",
    "data_0 = pd.read_csv('/datasets/geo_data_0.csv')\n",
    "\n",
    "data_1 = pd.read_csv('/datasets/geo_data_1.csv')\n",
    "\n",
    "data_2 = pd.read_csv('/datasets/geo_data_2.csv')"
   ]
  },
  {
   "cell_type": "code",
   "execution_count": 3,
   "id": "01820a39",
   "metadata": {},
   "outputs": [
    {
     "data": {
      "text/html": [
       "<div>\n",
       "<style scoped>\n",
       "    .dataframe tbody tr th:only-of-type {\n",
       "        vertical-align: middle;\n",
       "    }\n",
       "\n",
       "    .dataframe tbody tr th {\n",
       "        vertical-align: top;\n",
       "    }\n",
       "\n",
       "    .dataframe thead th {\n",
       "        text-align: right;\n",
       "    }\n",
       "</style>\n",
       "<table border=\"1\" class=\"dataframe\">\n",
       "  <thead>\n",
       "    <tr style=\"text-align: right;\">\n",
       "      <th></th>\n",
       "      <th>id</th>\n",
       "      <th>f0</th>\n",
       "      <th>f1</th>\n",
       "      <th>f2</th>\n",
       "      <th>product</th>\n",
       "    </tr>\n",
       "  </thead>\n",
       "  <tbody>\n",
       "    <tr>\n",
       "      <th>0</th>\n",
       "      <td>txEyH</td>\n",
       "      <td>0.705745</td>\n",
       "      <td>-0.497823</td>\n",
       "      <td>1.221170</td>\n",
       "      <td>105.280062</td>\n",
       "    </tr>\n",
       "    <tr>\n",
       "      <th>1</th>\n",
       "      <td>2acmU</td>\n",
       "      <td>1.334711</td>\n",
       "      <td>-0.340164</td>\n",
       "      <td>4.365080</td>\n",
       "      <td>73.037750</td>\n",
       "    </tr>\n",
       "    <tr>\n",
       "      <th>2</th>\n",
       "      <td>409Wp</td>\n",
       "      <td>1.022732</td>\n",
       "      <td>0.151990</td>\n",
       "      <td>1.419926</td>\n",
       "      <td>85.265647</td>\n",
       "    </tr>\n",
       "    <tr>\n",
       "      <th>3</th>\n",
       "      <td>iJLyR</td>\n",
       "      <td>-0.032172</td>\n",
       "      <td>0.139033</td>\n",
       "      <td>2.978566</td>\n",
       "      <td>168.620776</td>\n",
       "    </tr>\n",
       "    <tr>\n",
       "      <th>4</th>\n",
       "      <td>Xdl7t</td>\n",
       "      <td>1.988431</td>\n",
       "      <td>0.155413</td>\n",
       "      <td>4.751769</td>\n",
       "      <td>154.036647</td>\n",
       "    </tr>\n",
       "  </tbody>\n",
       "</table>\n",
       "</div>"
      ],
      "text/plain": [
       "      id        f0        f1        f2     product\n",
       "0  txEyH  0.705745 -0.497823  1.221170  105.280062\n",
       "1  2acmU  1.334711 -0.340164  4.365080   73.037750\n",
       "2  409Wp  1.022732  0.151990  1.419926   85.265647\n",
       "3  iJLyR -0.032172  0.139033  2.978566  168.620776\n",
       "4  Xdl7t  1.988431  0.155413  4.751769  154.036647"
      ]
     },
     "execution_count": 3,
     "metadata": {},
     "output_type": "execute_result"
    }
   ],
   "source": [
    "data_0.head()"
   ]
  },
  {
   "cell_type": "code",
   "execution_count": 4,
   "id": "b5bd9108",
   "metadata": {
    "scrolled": true
   },
   "outputs": [
    {
     "data": {
      "text/html": [
       "<div>\n",
       "<style scoped>\n",
       "    .dataframe tbody tr th:only-of-type {\n",
       "        vertical-align: middle;\n",
       "    }\n",
       "\n",
       "    .dataframe tbody tr th {\n",
       "        vertical-align: top;\n",
       "    }\n",
       "\n",
       "    .dataframe thead th {\n",
       "        text-align: right;\n",
       "    }\n",
       "</style>\n",
       "<table border=\"1\" class=\"dataframe\">\n",
       "  <thead>\n",
       "    <tr style=\"text-align: right;\">\n",
       "      <th></th>\n",
       "      <th>id</th>\n",
       "      <th>f0</th>\n",
       "      <th>f1</th>\n",
       "      <th>f2</th>\n",
       "      <th>product</th>\n",
       "    </tr>\n",
       "  </thead>\n",
       "  <tbody>\n",
       "    <tr>\n",
       "      <th>0</th>\n",
       "      <td>kBEdx</td>\n",
       "      <td>-15.001348</td>\n",
       "      <td>-8.276000</td>\n",
       "      <td>-0.005876</td>\n",
       "      <td>3.179103</td>\n",
       "    </tr>\n",
       "    <tr>\n",
       "      <th>1</th>\n",
       "      <td>62mP7</td>\n",
       "      <td>14.272088</td>\n",
       "      <td>-3.475083</td>\n",
       "      <td>0.999183</td>\n",
       "      <td>26.953261</td>\n",
       "    </tr>\n",
       "    <tr>\n",
       "      <th>2</th>\n",
       "      <td>vyE1P</td>\n",
       "      <td>6.263187</td>\n",
       "      <td>-5.948386</td>\n",
       "      <td>5.001160</td>\n",
       "      <td>134.766305</td>\n",
       "    </tr>\n",
       "    <tr>\n",
       "      <th>3</th>\n",
       "      <td>KcrkZ</td>\n",
       "      <td>-13.081196</td>\n",
       "      <td>-11.506057</td>\n",
       "      <td>4.999415</td>\n",
       "      <td>137.945408</td>\n",
       "    </tr>\n",
       "    <tr>\n",
       "      <th>4</th>\n",
       "      <td>AHL4O</td>\n",
       "      <td>12.702195</td>\n",
       "      <td>-8.147433</td>\n",
       "      <td>5.004363</td>\n",
       "      <td>134.766305</td>\n",
       "    </tr>\n",
       "  </tbody>\n",
       "</table>\n",
       "</div>"
      ],
      "text/plain": [
       "      id         f0         f1        f2     product\n",
       "0  kBEdx -15.001348  -8.276000 -0.005876    3.179103\n",
       "1  62mP7  14.272088  -3.475083  0.999183   26.953261\n",
       "2  vyE1P   6.263187  -5.948386  5.001160  134.766305\n",
       "3  KcrkZ -13.081196 -11.506057  4.999415  137.945408\n",
       "4  AHL4O  12.702195  -8.147433  5.004363  134.766305"
      ]
     },
     "execution_count": 4,
     "metadata": {},
     "output_type": "execute_result"
    }
   ],
   "source": [
    "data_1.head()"
   ]
  },
  {
   "cell_type": "code",
   "execution_count": 5,
   "id": "2e221aae",
   "metadata": {
    "scrolled": true
   },
   "outputs": [
    {
     "data": {
      "text/html": [
       "<div>\n",
       "<style scoped>\n",
       "    .dataframe tbody tr th:only-of-type {\n",
       "        vertical-align: middle;\n",
       "    }\n",
       "\n",
       "    .dataframe tbody tr th {\n",
       "        vertical-align: top;\n",
       "    }\n",
       "\n",
       "    .dataframe thead th {\n",
       "        text-align: right;\n",
       "    }\n",
       "</style>\n",
       "<table border=\"1\" class=\"dataframe\">\n",
       "  <thead>\n",
       "    <tr style=\"text-align: right;\">\n",
       "      <th></th>\n",
       "      <th>id</th>\n",
       "      <th>f0</th>\n",
       "      <th>f1</th>\n",
       "      <th>f2</th>\n",
       "      <th>product</th>\n",
       "    </tr>\n",
       "  </thead>\n",
       "  <tbody>\n",
       "    <tr>\n",
       "      <th>0</th>\n",
       "      <td>fwXo0</td>\n",
       "      <td>-1.146987</td>\n",
       "      <td>0.963328</td>\n",
       "      <td>-0.828965</td>\n",
       "      <td>27.758673</td>\n",
       "    </tr>\n",
       "    <tr>\n",
       "      <th>1</th>\n",
       "      <td>WJtFt</td>\n",
       "      <td>0.262778</td>\n",
       "      <td>0.269839</td>\n",
       "      <td>-2.530187</td>\n",
       "      <td>56.069697</td>\n",
       "    </tr>\n",
       "    <tr>\n",
       "      <th>2</th>\n",
       "      <td>ovLUW</td>\n",
       "      <td>0.194587</td>\n",
       "      <td>0.289035</td>\n",
       "      <td>-5.586433</td>\n",
       "      <td>62.871910</td>\n",
       "    </tr>\n",
       "    <tr>\n",
       "      <th>3</th>\n",
       "      <td>q6cA6</td>\n",
       "      <td>2.236060</td>\n",
       "      <td>-0.553760</td>\n",
       "      <td>0.930038</td>\n",
       "      <td>114.572842</td>\n",
       "    </tr>\n",
       "    <tr>\n",
       "      <th>4</th>\n",
       "      <td>WPMUX</td>\n",
       "      <td>-0.515993</td>\n",
       "      <td>1.716266</td>\n",
       "      <td>5.899011</td>\n",
       "      <td>149.600746</td>\n",
       "    </tr>\n",
       "  </tbody>\n",
       "</table>\n",
       "</div>"
      ],
      "text/plain": [
       "      id        f0        f1        f2     product\n",
       "0  fwXo0 -1.146987  0.963328 -0.828965   27.758673\n",
       "1  WJtFt  0.262778  0.269839 -2.530187   56.069697\n",
       "2  ovLUW  0.194587  0.289035 -5.586433   62.871910\n",
       "3  q6cA6  2.236060 -0.553760  0.930038  114.572842\n",
       "4  WPMUX -0.515993  1.716266  5.899011  149.600746"
      ]
     },
     "execution_count": 5,
     "metadata": {},
     "output_type": "execute_result"
    }
   ],
   "source": [
    "data_2.head()"
   ]
  },
  {
   "cell_type": "code",
   "execution_count": 6,
   "id": "98124ff1",
   "metadata": {},
   "outputs": [
    {
     "name": "stdout",
     "output_type": "stream",
     "text": [
      "<class 'pandas.core.frame.DataFrame'>\n",
      "RangeIndex: 100000 entries, 0 to 99999\n",
      "Data columns (total 5 columns):\n",
      " #   Column   Non-Null Count   Dtype  \n",
      "---  ------   --------------   -----  \n",
      " 0   id       100000 non-null  object \n",
      " 1   f0       100000 non-null  float64\n",
      " 2   f1       100000 non-null  float64\n",
      " 3   f2       100000 non-null  float64\n",
      " 4   product  100000 non-null  float64\n",
      "dtypes: float64(4), object(1)\n",
      "memory usage: 3.8+ MB\n"
     ]
    }
   ],
   "source": [
    "data_0.info()"
   ]
  },
  {
   "cell_type": "code",
   "execution_count": 7,
   "id": "cd32b2cc",
   "metadata": {},
   "outputs": [
    {
     "name": "stdout",
     "output_type": "stream",
     "text": [
      "<class 'pandas.core.frame.DataFrame'>\n",
      "RangeIndex: 100000 entries, 0 to 99999\n",
      "Data columns (total 5 columns):\n",
      " #   Column   Non-Null Count   Dtype  \n",
      "---  ------   --------------   -----  \n",
      " 0   id       100000 non-null  object \n",
      " 1   f0       100000 non-null  float64\n",
      " 2   f1       100000 non-null  float64\n",
      " 3   f2       100000 non-null  float64\n",
      " 4   product  100000 non-null  float64\n",
      "dtypes: float64(4), object(1)\n",
      "memory usage: 3.8+ MB\n"
     ]
    }
   ],
   "source": [
    "data_1.info()"
   ]
  },
  {
   "cell_type": "code",
   "execution_count": 8,
   "id": "7ac85af0",
   "metadata": {
    "scrolled": true
   },
   "outputs": [
    {
     "name": "stdout",
     "output_type": "stream",
     "text": [
      "<class 'pandas.core.frame.DataFrame'>\n",
      "RangeIndex: 100000 entries, 0 to 99999\n",
      "Data columns (total 5 columns):\n",
      " #   Column   Non-Null Count   Dtype  \n",
      "---  ------   --------------   -----  \n",
      " 0   id       100000 non-null  object \n",
      " 1   f0       100000 non-null  float64\n",
      " 2   f1       100000 non-null  float64\n",
      " 3   f2       100000 non-null  float64\n",
      " 4   product  100000 non-null  float64\n",
      "dtypes: float64(4), object(1)\n",
      "memory usage: 3.8+ MB\n"
     ]
    }
   ],
   "source": [
    "data_2.info()"
   ]
  },
  {
   "cell_type": "code",
   "execution_count": 9,
   "id": "6eb0d2c3",
   "metadata": {},
   "outputs": [
    {
     "data": {
      "text/html": [
       "<div>\n",
       "<style scoped>\n",
       "    .dataframe tbody tr th:only-of-type {\n",
       "        vertical-align: middle;\n",
       "    }\n",
       "\n",
       "    .dataframe tbody tr th {\n",
       "        vertical-align: top;\n",
       "    }\n",
       "\n",
       "    .dataframe thead th {\n",
       "        text-align: right;\n",
       "    }\n",
       "</style>\n",
       "<table border=\"1\" class=\"dataframe\">\n",
       "  <thead>\n",
       "    <tr style=\"text-align: right;\">\n",
       "      <th></th>\n",
       "      <th>f0</th>\n",
       "      <th>f1</th>\n",
       "      <th>f2</th>\n",
       "      <th>product</th>\n",
       "    </tr>\n",
       "  </thead>\n",
       "  <tbody>\n",
       "    <tr>\n",
       "      <th>count</th>\n",
       "      <td>100000.000000</td>\n",
       "      <td>100000.000000</td>\n",
       "      <td>100000.000000</td>\n",
       "      <td>100000.000000</td>\n",
       "    </tr>\n",
       "    <tr>\n",
       "      <th>mean</th>\n",
       "      <td>0.500419</td>\n",
       "      <td>0.250143</td>\n",
       "      <td>2.502647</td>\n",
       "      <td>92.500000</td>\n",
       "    </tr>\n",
       "    <tr>\n",
       "      <th>std</th>\n",
       "      <td>0.871832</td>\n",
       "      <td>0.504433</td>\n",
       "      <td>3.248248</td>\n",
       "      <td>44.288691</td>\n",
       "    </tr>\n",
       "    <tr>\n",
       "      <th>min</th>\n",
       "      <td>-1.408605</td>\n",
       "      <td>-0.848218</td>\n",
       "      <td>-12.088328</td>\n",
       "      <td>0.000000</td>\n",
       "    </tr>\n",
       "    <tr>\n",
       "      <th>25%</th>\n",
       "      <td>-0.072580</td>\n",
       "      <td>-0.200881</td>\n",
       "      <td>0.287748</td>\n",
       "      <td>56.497507</td>\n",
       "    </tr>\n",
       "    <tr>\n",
       "      <th>50%</th>\n",
       "      <td>0.502360</td>\n",
       "      <td>0.250252</td>\n",
       "      <td>2.515969</td>\n",
       "      <td>91.849972</td>\n",
       "    </tr>\n",
       "    <tr>\n",
       "      <th>75%</th>\n",
       "      <td>1.073581</td>\n",
       "      <td>0.700646</td>\n",
       "      <td>4.715088</td>\n",
       "      <td>128.564089</td>\n",
       "    </tr>\n",
       "    <tr>\n",
       "      <th>max</th>\n",
       "      <td>2.362331</td>\n",
       "      <td>1.343769</td>\n",
       "      <td>16.003790</td>\n",
       "      <td>185.364347</td>\n",
       "    </tr>\n",
       "  </tbody>\n",
       "</table>\n",
       "</div>"
      ],
      "text/plain": [
       "                  f0             f1             f2        product\n",
       "count  100000.000000  100000.000000  100000.000000  100000.000000\n",
       "mean        0.500419       0.250143       2.502647      92.500000\n",
       "std         0.871832       0.504433       3.248248      44.288691\n",
       "min        -1.408605      -0.848218     -12.088328       0.000000\n",
       "25%        -0.072580      -0.200881       0.287748      56.497507\n",
       "50%         0.502360       0.250252       2.515969      91.849972\n",
       "75%         1.073581       0.700646       4.715088     128.564089\n",
       "max         2.362331       1.343769      16.003790     185.364347"
      ]
     },
     "execution_count": 9,
     "metadata": {},
     "output_type": "execute_result"
    }
   ],
   "source": [
    "data_0.describe()"
   ]
  },
  {
   "cell_type": "code",
   "execution_count": 10,
   "id": "c5262fa1",
   "metadata": {},
   "outputs": [
    {
     "data": {
      "text/html": [
       "<div>\n",
       "<style scoped>\n",
       "    .dataframe tbody tr th:only-of-type {\n",
       "        vertical-align: middle;\n",
       "    }\n",
       "\n",
       "    .dataframe tbody tr th {\n",
       "        vertical-align: top;\n",
       "    }\n",
       "\n",
       "    .dataframe thead th {\n",
       "        text-align: right;\n",
       "    }\n",
       "</style>\n",
       "<table border=\"1\" class=\"dataframe\">\n",
       "  <thead>\n",
       "    <tr style=\"text-align: right;\">\n",
       "      <th></th>\n",
       "      <th>f0</th>\n",
       "      <th>f1</th>\n",
       "      <th>f2</th>\n",
       "      <th>product</th>\n",
       "    </tr>\n",
       "  </thead>\n",
       "  <tbody>\n",
       "    <tr>\n",
       "      <th>count</th>\n",
       "      <td>100000.000000</td>\n",
       "      <td>100000.000000</td>\n",
       "      <td>100000.000000</td>\n",
       "      <td>100000.000000</td>\n",
       "    </tr>\n",
       "    <tr>\n",
       "      <th>mean</th>\n",
       "      <td>1.141296</td>\n",
       "      <td>-4.796579</td>\n",
       "      <td>2.494541</td>\n",
       "      <td>68.825000</td>\n",
       "    </tr>\n",
       "    <tr>\n",
       "      <th>std</th>\n",
       "      <td>8.965932</td>\n",
       "      <td>5.119872</td>\n",
       "      <td>1.703572</td>\n",
       "      <td>45.944423</td>\n",
       "    </tr>\n",
       "    <tr>\n",
       "      <th>min</th>\n",
       "      <td>-31.609576</td>\n",
       "      <td>-26.358598</td>\n",
       "      <td>-0.018144</td>\n",
       "      <td>0.000000</td>\n",
       "    </tr>\n",
       "    <tr>\n",
       "      <th>25%</th>\n",
       "      <td>-6.298551</td>\n",
       "      <td>-8.267985</td>\n",
       "      <td>1.000021</td>\n",
       "      <td>26.953261</td>\n",
       "    </tr>\n",
       "    <tr>\n",
       "      <th>50%</th>\n",
       "      <td>1.153055</td>\n",
       "      <td>-4.813172</td>\n",
       "      <td>2.011479</td>\n",
       "      <td>57.085625</td>\n",
       "    </tr>\n",
       "    <tr>\n",
       "      <th>75%</th>\n",
       "      <td>8.621015</td>\n",
       "      <td>-1.332816</td>\n",
       "      <td>3.999904</td>\n",
       "      <td>107.813044</td>\n",
       "    </tr>\n",
       "    <tr>\n",
       "      <th>max</th>\n",
       "      <td>29.421755</td>\n",
       "      <td>18.734063</td>\n",
       "      <td>5.019721</td>\n",
       "      <td>137.945408</td>\n",
       "    </tr>\n",
       "  </tbody>\n",
       "</table>\n",
       "</div>"
      ],
      "text/plain": [
       "                  f0             f1             f2        product\n",
       "count  100000.000000  100000.000000  100000.000000  100000.000000\n",
       "mean        1.141296      -4.796579       2.494541      68.825000\n",
       "std         8.965932       5.119872       1.703572      45.944423\n",
       "min       -31.609576     -26.358598      -0.018144       0.000000\n",
       "25%        -6.298551      -8.267985       1.000021      26.953261\n",
       "50%         1.153055      -4.813172       2.011479      57.085625\n",
       "75%         8.621015      -1.332816       3.999904     107.813044\n",
       "max        29.421755      18.734063       5.019721     137.945408"
      ]
     },
     "execution_count": 10,
     "metadata": {},
     "output_type": "execute_result"
    }
   ],
   "source": [
    "data_1.describe()"
   ]
  },
  {
   "cell_type": "code",
   "execution_count": 11,
   "id": "00202ec5",
   "metadata": {
    "scrolled": true
   },
   "outputs": [
    {
     "data": {
      "text/html": [
       "<div>\n",
       "<style scoped>\n",
       "    .dataframe tbody tr th:only-of-type {\n",
       "        vertical-align: middle;\n",
       "    }\n",
       "\n",
       "    .dataframe tbody tr th {\n",
       "        vertical-align: top;\n",
       "    }\n",
       "\n",
       "    .dataframe thead th {\n",
       "        text-align: right;\n",
       "    }\n",
       "</style>\n",
       "<table border=\"1\" class=\"dataframe\">\n",
       "  <thead>\n",
       "    <tr style=\"text-align: right;\">\n",
       "      <th></th>\n",
       "      <th>f0</th>\n",
       "      <th>f1</th>\n",
       "      <th>f2</th>\n",
       "      <th>product</th>\n",
       "    </tr>\n",
       "  </thead>\n",
       "  <tbody>\n",
       "    <tr>\n",
       "      <th>count</th>\n",
       "      <td>100000.000000</td>\n",
       "      <td>100000.000000</td>\n",
       "      <td>100000.000000</td>\n",
       "      <td>100000.000000</td>\n",
       "    </tr>\n",
       "    <tr>\n",
       "      <th>mean</th>\n",
       "      <td>0.002023</td>\n",
       "      <td>-0.002081</td>\n",
       "      <td>2.495128</td>\n",
       "      <td>95.000000</td>\n",
       "    </tr>\n",
       "    <tr>\n",
       "      <th>std</th>\n",
       "      <td>1.732045</td>\n",
       "      <td>1.730417</td>\n",
       "      <td>3.473445</td>\n",
       "      <td>44.749921</td>\n",
       "    </tr>\n",
       "    <tr>\n",
       "      <th>min</th>\n",
       "      <td>-8.760004</td>\n",
       "      <td>-7.084020</td>\n",
       "      <td>-11.970335</td>\n",
       "      <td>0.000000</td>\n",
       "    </tr>\n",
       "    <tr>\n",
       "      <th>25%</th>\n",
       "      <td>-1.162288</td>\n",
       "      <td>-1.174820</td>\n",
       "      <td>0.130359</td>\n",
       "      <td>59.450441</td>\n",
       "    </tr>\n",
       "    <tr>\n",
       "      <th>50%</th>\n",
       "      <td>0.009424</td>\n",
       "      <td>-0.009482</td>\n",
       "      <td>2.484236</td>\n",
       "      <td>94.925613</td>\n",
       "    </tr>\n",
       "    <tr>\n",
       "      <th>75%</th>\n",
       "      <td>1.158535</td>\n",
       "      <td>1.163678</td>\n",
       "      <td>4.858794</td>\n",
       "      <td>130.595027</td>\n",
       "    </tr>\n",
       "    <tr>\n",
       "      <th>max</th>\n",
       "      <td>7.238262</td>\n",
       "      <td>7.844801</td>\n",
       "      <td>16.739402</td>\n",
       "      <td>190.029838</td>\n",
       "    </tr>\n",
       "  </tbody>\n",
       "</table>\n",
       "</div>"
      ],
      "text/plain": [
       "                  f0             f1             f2        product\n",
       "count  100000.000000  100000.000000  100000.000000  100000.000000\n",
       "mean        0.002023      -0.002081       2.495128      95.000000\n",
       "std         1.732045       1.730417       3.473445      44.749921\n",
       "min        -8.760004      -7.084020     -11.970335       0.000000\n",
       "25%        -1.162288      -1.174820       0.130359      59.450441\n",
       "50%         0.009424      -0.009482       2.484236      94.925613\n",
       "75%         1.158535       1.163678       4.858794     130.595027\n",
       "max         7.238262       7.844801      16.739402     190.029838"
      ]
     },
     "execution_count": 11,
     "metadata": {},
     "output_type": "execute_result"
    }
   ],
   "source": [
    "data_2.describe()"
   ]
  },
  {
   "cell_type": "code",
   "execution_count": 12,
   "id": "5e90bf29",
   "metadata": {},
   "outputs": [
    {
     "name": "stdout",
     "output_type": "stream",
     "text": [
      "0\n",
      "\n",
      "0\n",
      "\n",
      "0\n"
     ]
    }
   ],
   "source": [
    "# Búsqueda de información duplicada. \n",
    "\n",
    "print(data_0.duplicated().sum())\n",
    "print()\n",
    "print(data_1.duplicated().sum())\n",
    "print()\n",
    "print(data_2.duplicated().sum())"
   ]
  },
  {
   "cell_type": "code",
   "execution_count": 13,
   "id": "7e3c4b08",
   "metadata": {},
   "outputs": [
    {
     "name": "stdout",
     "output_type": "stream",
     "text": [
      "(100000, 5)\n",
      "\n",
      "(100000, 5)\n",
      "\n",
      "(100000, 5)\n"
     ]
    }
   ],
   "source": [
    "# Evidencia del tamaño de los datos para separlos correctamente durante la elaboración del modelo de ML. \n",
    "\n",
    "print(data_0.shape)\n",
    "print()\n",
    "print(data_1.shape)\n",
    "print()\n",
    "print(data_2.shape)"
   ]
  },
  {
   "cell_type": "code",
   "execution_count": 14,
   "id": "fc20b38b",
   "metadata": {},
   "outputs": [],
   "source": [
    "#Eliminación de la columna que no aporta al modelo de machine learning.\n",
    "\n",
    "data_0 = data_0.drop(['id'], axis=1)\n",
    "\n",
    "data_1 = data_1.drop(['id'], axis=1)\n",
    "\n",
    "data_2 = data_2.drop(['id'], axis=1)"
   ]
  },
  {
   "cell_type": "markdown",
   "id": "5b9cf8fb",
   "metadata": {},
   "source": [
    "Tras un sondeo de las bases de datos se puede observar que todos los datos son del tipo correcto, no hay datos ausentes ni duplicados. Además, contamos con 3 bases con la misma cantidad de datos y distribución, por todo lo anterior es que podemos proceder a hacer la división de los datos y entrenar los modelos. "
   ]
  },
  {
   "cell_type": "markdown",
   "id": "e64d0cfa",
   "metadata": {},
   "source": [
    "## 2. División de los datos y entrenamiento de modelos\n",
    "\n",
    "### 2.1 División de bases de datos:"
   ]
  },
  {
   "cell_type": "code",
   "execution_count": 15,
   "id": "cf14d7dc",
   "metadata": {},
   "outputs": [],
   "source": [
    "#División de las tres bases de datos.\n",
    "\n",
    "data_train_0, data_valid_0 = train_test_split(data_0, test_size = 0.25, train_size = 0.75, random_state = 123)\n",
    "\n",
    "data_train_1, data_valid_1 = train_test_split(data_1, test_size = 0.25, train_size = 0.75, random_state = 123)\n",
    "\n",
    "data_train_2, data_valid_2 = train_test_split(data_2, test_size = 0.25, train_size = 0.75, random_state = 123)"
   ]
  },
  {
   "cell_type": "code",
   "execution_count": 16,
   "id": "e96a0f7a",
   "metadata": {
    "scrolled": false
   },
   "outputs": [
    {
     "name": "stdout",
     "output_type": "stream",
     "text": [
      "Region 0 dt: (75000, 4) (25000, 4)\n",
      "\n",
      "Region 1 dt: (75000, 4) (25000, 4)\n",
      "\n",
      "Region 2 dt: (75000, 4) (25000, 4)\n"
     ]
    }
   ],
   "source": [
    "# Revisión de la división de datos.\n",
    "\n",
    "print(f'Region 0 dt:', data_train_0.shape, data_valid_0.shape)\n",
    "print()\n",
    "print(f'Region 1 dt:',data_train_0.shape, data_valid_0.shape)\n",
    "print()\n",
    "print(f'Region 2 dt:',data_train_0.shape, data_valid_0.shape)"
   ]
  },
  {
   "cell_type": "markdown",
   "id": "5620f278",
   "metadata": {},
   "source": [
    "### 2.2 Entrenamiento del modelo de Regresión Lineal para todas las regiones: "
   ]
  },
  {
   "cell_type": "code",
   "execution_count": 17,
   "id": "68a42164",
   "metadata": {
    "scrolled": true
   },
   "outputs": [
    {
     "name": "stdout",
     "output_type": "stream",
     "text": [
      "\n",
      "      Average volume predicted:, 92.55\n",
      "      MSE region 0:, 1417.3615751967836\n",
      "      RMSE region 0: 37.64786282376177\n",
      "      \n"
     ]
    }
   ],
   "source": [
    "# Modelo región 0.\n",
    "\n",
    "train_features_0 = data_train_0.drop(['product'], axis=1)\n",
    "train_target_0 = data_train_0['product']\n",
    "\n",
    "valid_features_0 = data_valid_0.drop(['product'], axis=1)\n",
    "valid_target_0 = data_valid_0['product']\n",
    "\n",
    "model = LinearRegression()\n",
    "\n",
    "model.fit(train_features_0, train_target_0)\n",
    "\n",
    "predictions_valid_0 = model.predict(valid_features_0)\n",
    "\n",
    "mse_0 = mean_squared_error(valid_target_0, predictions_valid_0)\n",
    "\n",
    "print(f\"\"\"\n",
    "      Average volume predicted:, {predictions_valid_0.mean().round(2)}\n",
    "      MSE region 0:, {mse_0}\n",
    "      RMSE region 0: {mse_0 ** 0.5}\n",
    "      \"\"\")\n"
   ]
  },
  {
   "cell_type": "code",
   "execution_count": 18,
   "id": "dfa82ea1",
   "metadata": {},
   "outputs": [
    {
     "name": "stdout",
     "output_type": "stream",
     "text": [
      "\n",
      "      Average volume predicted:, 69.28\n",
      "      MSE region 1:, 0.8017661964648853\n",
      "      RMSE region 1: 0.8954139804944333\n",
      "      \n"
     ]
    }
   ],
   "source": [
    "# Modelo región 1.\n",
    "\n",
    "train_features_1 = data_train_1.drop(['product'], axis=1)\n",
    "train_target_1 = data_train_1['product']\n",
    "\n",
    "valid_features_1 = data_valid_1.drop(['product'], axis=1)\n",
    "valid_target_1 = data_valid_1['product']\n",
    "\n",
    "model = LinearRegression()\n",
    "\n",
    "model.fit(train_features_1, train_target_1)\n",
    "\n",
    "predictions_valid_1 = model.predict(valid_features_1)\n",
    "\n",
    "mse_1 = mean_squared_error(valid_target_1, predictions_valid_1)\n",
    "\n",
    "print(f\"\"\"\n",
    "      Average volume predicted:, {predictions_valid_1.mean().round(2)}\n",
    "      MSE region 1:, {mse_1}\n",
    "      RMSE region 1: {mse_1 ** 0.5}\n",
    "      \"\"\")\n"
   ]
  },
  {
   "cell_type": "code",
   "execution_count": 19,
   "id": "5b9d1184",
   "metadata": {},
   "outputs": [
    {
     "name": "stdout",
     "output_type": "stream",
     "text": [
      "\n",
      "      Average volume predicted:, 95.1\n",
      "      MSE region 2:, 1610.2587969766075\n",
      "      RMSE region 2: 40.12803006598514\n",
      "      \n"
     ]
    }
   ],
   "source": [
    "# Modelo región 2.\n",
    "\n",
    "train_features_2 = data_train_2.drop(['product'], axis=1)\n",
    "train_target_2 = data_train_2['product']\n",
    "\n",
    "valid_features_2 = data_valid_2.drop(['product'], axis=1)\n",
    "valid_target_2 = data_valid_2['product']\n",
    "\n",
    "model = LinearRegression()\n",
    "\n",
    "model.fit(train_features_2, train_target_2)\n",
    "\n",
    "predictions_valid_2 = model.predict(valid_features_2)\n",
    "\n",
    "mse_2 = mean_squared_error(valid_target_2, predictions_valid_2)\n",
    "\n",
    "print(f\"\"\"\n",
    "      Average volume predicted:, {predictions_valid_2.mean().round(2)}\n",
    "      MSE region 2:, {mse_2}\n",
    "      RMSE region 2: {mse_2 ** 0.5}\n",
    "      \"\"\")\n"
   ]
  },
  {
   "cell_type": "markdown",
   "id": "9dec2c3e",
   "metadata": {},
   "source": [
    "### 2.3 Prueba de cordura para los modelos:"
   ]
  },
  {
   "cell_type": "code",
   "execution_count": 20,
   "id": "9e433bba",
   "metadata": {},
   "outputs": [],
   "source": [
    "# Función para aplicar la prueba de cordura en todas las regiones.\n",
    "\n",
    "def sanity_test(train_data, valid_data):\n",
    "\n",
    "    train_features = train_data.drop(['product'], axis=1)\n",
    "    train_target = train_data['product']\n",
    "\n",
    "    valid_features = valid_data.drop(['product'], axis=1)\n",
    "    valid_target = valid_data['product']\n",
    "\n",
    "    model = LinearRegression()\n",
    "\n",
    "    model.fit(train_features, train_target)\n",
    "    \n",
    "    mean_predictions_valid = pd.Series(train_target.mean(), index = valid_target.index)\n",
    "\n",
    "    mse_mean = mean_squared_error(valid_target, mean_predictions_valid)\n",
    "\n",
    "    print('Sanity test results')\n",
    "    print('Average MSE =', mse_mean)\n",
    "    print('Average RMSE =', mse_mean ** 0.5)\n",
    "    \n",
    "    return sanity_test"
   ]
  },
  {
   "cell_type": "markdown",
   "id": "4236ef5b",
   "metadata": {},
   "source": [
    "### 2.4 Comparativa y muestra de resultados de los modelos:"
   ]
  },
  {
   "cell_type": "code",
   "execution_count": 21,
   "id": "e1dfc378",
   "metadata": {
    "scrolled": true
   },
   "outputs": [
    {
     "name": "stdout",
     "output_type": "stream",
     "text": [
      "Region 0\n",
      "\n",
      "Average volume predicted:, 92.55\n",
      "MSE region 0:, 1417.3615751967836\n",
      "RMSE region 0: 37.64786282376177\n",
      "      \n",
      "Sanity test results\n",
      "Average MSE = 1972.3302703693828\n",
      "Average RMSE = 44.41092512399829\n",
      "\n",
      "Region 1\n",
      "\n",
      "Average volume predicted:, 69.28\n",
      "MSE region 1:, 0.8017661964648853\n",
      "RMSE region 1: 0.8954139804944333\n",
      "      \n",
      "Sanity test results\n",
      "Average MSE = 2099.7296790793853\n",
      "Average RMSE = 45.82280741158692\n",
      "\n",
      "Region 2\n",
      "\n",
      "Average volume predicted:, 95.1\n",
      "MSE region 2:, 1610.2587969766075\n",
      "RMSE region 2: 40.12803006598514\n",
      "      \n",
      "Sanity test results\n",
      "Average MSE = 1995.7302728988466\n",
      "Average RMSE = 44.67359704455023\n"
     ]
    }
   ],
   "source": [
    "print('Region 0')\n",
    "print(f\"\"\"\n",
    "Average volume predicted:, {predictions_valid_0.mean().round(2)}\n",
    "MSE region 0:, {mse_0}\n",
    "RMSE region 0: {mse_0 ** 0.5}\n",
    "      \"\"\")\n",
    "sanity_test_0 = sanity_test(data_train_0, data_valid_0)\n",
    "print()\n",
    "\n",
    "print('Region 1')\n",
    "print(f\"\"\"\n",
    "Average volume predicted:, {predictions_valid_1.mean().round(2)}\n",
    "MSE region 1:, {mse_1}\n",
    "RMSE region 1: {mse_1 ** 0.5}\n",
    "      \"\"\")\n",
    "sanity_test_1 = sanity_test(data_train_1, data_valid_1)\n",
    "print()\n",
    "\n",
    "print('Region 2')\n",
    "print(f\"\"\"\n",
    "Average volume predicted:, {predictions_valid_2.mean().round(2)}\n",
    "MSE region 2:, {mse_2}\n",
    "RMSE region 2: {mse_2 ** 0.5}\n",
    "      \"\"\")\n",
    "sanity_test_2 = sanity_test(data_train_2, data_valid_2)"
   ]
  },
  {
   "cell_type": "markdown",
   "id": "e63c3a48",
   "metadata": {},
   "source": [
    "### 2.5 Conclusiones parciales:"
   ]
  },
  {
   "cell_type": "markdown",
   "id": "ab9cfb4e",
   "metadata": {},
   "source": [
    "Con los anteriores resultados podemos observar que el modelo de regresión lineal en cada región es más efectivo que los resultados de la prueba de cordura donde se trabaja con los datos promediados. \n",
    "\n",
    "Además, podemos extraer otros datos como las predicciones frente a la producción de miles de barriles en cada región, en este caso, se estima que la mayor producción se genera en la región 2."
   ]
  },
  {
   "cell_type": "markdown",
   "id": "22b419ec",
   "metadata": {},
   "source": [
    "## 3. Primeros pasos para el cálculo de ganancias\n",
    "\n",
    "### 3.1 Preparación de los datos:"
   ]
  },
  {
   "cell_type": "code",
   "execution_count": 22,
   "id": "3c3fd3e3",
   "metadata": {
    "scrolled": true
   },
   "outputs": [
    {
     "name": "stdout",
     "output_type": "stream",
     "text": [
      "Investment per well: 500000.0 dollars\n",
      "\n",
      "Min production of barrels per well: 1111000.0 of barrels\n",
      "\n",
      "Minimum income from a profitable well: 4999500000.0 dollars\n"
     ]
    }
   ],
   "source": [
    "# Valores necesarios para los cálculos: \n",
    "\n",
    "investment = 100000000\n",
    "\n",
    "oil_wells = 200\n",
    "\n",
    "oil_wells_per_region = 10000\n",
    "\n",
    "min_product = 111.1\n",
    "\n",
    "income_per_barrel = 4.5\n",
    "\n",
    "income_per_unit = 4500\n",
    "\n",
    "investment_per_well = investment / oil_wells\n",
    "\n",
    "min_product_per_region = oil_wells_per_region * min_product\n",
    "\n",
    "min_income_per_region = min_product_per_region * income_per_unit\n",
    "\n",
    "print(f'Investment per well:' , investment_per_well, 'dollars')\n",
    "print()\n",
    "print(f'Min production of barrels per well:' , min_product_per_region, 'of barrels')\n",
    "print()\n",
    "print(f'Minimum income from a profitable well:' , min_income_per_region, 'dollars')"
   ]
  },
  {
   "cell_type": "markdown",
   "id": "1dab2730",
   "metadata": {},
   "source": [
    "### 3.2 Cálculos por región:"
   ]
  },
  {
   "cell_type": "code",
   "execution_count": 23,
   "id": "ad728a8d",
   "metadata": {},
   "outputs": [
    {
     "name": "stdout",
     "output_type": "stream",
     "text": [
      "Average production of region 0 per well: 92.5 thousands of barrels\n",
      "\n",
      "Average income of region 0 per well: 416250.0 dollars\n"
     ]
    }
   ],
   "source": [
    "# Región 0:\n",
    "\n",
    "av_production_region_0 = data_0['product'].mean()\n",
    "\n",
    "av_income_region_0 = av_production_region_0 * income_per_unit\n",
    "\n",
    "\n",
    "print(f'Average production of region 0 per well:', av_production_region_0.round(2), 'thousands of barrels')\n",
    "print()\n",
    "print(f'Average income of region 0 per well:', av_income_region_0.round(2), 'dollars')"
   ]
  },
  {
   "cell_type": "code",
   "execution_count": 24,
   "id": "f918c976",
   "metadata": {},
   "outputs": [
    {
     "name": "stdout",
     "output_type": "stream",
     "text": [
      "Average production of region 1 per well: 68.83 thousands of barrels\n",
      "\n",
      "Average income of region 1 per well: 309712.5 dollars\n"
     ]
    }
   ],
   "source": [
    "# Región 1:\n",
    "\n",
    "av_production_region_1 = data_1['product'].mean()\n",
    "\n",
    "av_income_region_1 = av_production_region_1 * income_per_unit\n",
    "\n",
    "\n",
    "print(f'Average production of region 1 per well:', av_production_region_1.round(2), 'thousands of barrels')\n",
    "print()\n",
    "print(f'Average income of region 1 per well:', av_income_region_1.round(2), 'dollars')"
   ]
  },
  {
   "cell_type": "code",
   "execution_count": 25,
   "id": "db655caf",
   "metadata": {
    "scrolled": true
   },
   "outputs": [
    {
     "name": "stdout",
     "output_type": "stream",
     "text": [
      "Average production of region 2 per well: 95.0 thousands of barrels\n",
      "\n",
      "Average income of region 2 per well: 427500.0 dollars\n"
     ]
    }
   ],
   "source": [
    "# Región 2:\n",
    "\n",
    "av_production_region_2 = data_2['product'].mean()\n",
    "\n",
    "av_income_region_2 = av_production_region_2 * income_per_unit\n",
    "\n",
    "\n",
    "print(f'Average production of region 2 per well:', av_production_region_2.round(2), 'thousands of barrels')\n",
    "print()\n",
    "print(f'Average income of region 2 per well:', av_income_region_2.round(2), 'dollars')"
   ]
  },
  {
   "cell_type": "markdown",
   "id": "621c8f76",
   "metadata": {},
   "source": [
    "### 3.3 Comparativa de las regiones: "
   ]
  },
  {
   "cell_type": "code",
   "execution_count": 26,
   "id": "34e980f1",
   "metadata": {
    "scrolled": true
   },
   "outputs": [
    {
     "name": "stdout",
     "output_type": "stream",
     "text": [
      "Average production of region 0 per well: 92.5 thousands of barrels\n",
      "\n",
      "Average production of region 1 per well: 68.83 thousands of barrels\n",
      "\n",
      "Average production of region 2 per well: 95.0 thousands of barrels\n"
     ]
    }
   ],
   "source": [
    "# Producción promedio de miles de barriles por región\n",
    "\n",
    "print(f'Average production of region 0 per well:', av_production_region_0.round(2), 'thousands of barrels')\n",
    "print()\n",
    "print(f'Average production of region 1 per well:', av_production_region_1.round(2), 'thousands of barrels')\n",
    "print()\n",
    "print(f'Average production of region 2 per well:', av_production_region_2.round(2), 'thousands of barrels')"
   ]
  },
  {
   "cell_type": "markdown",
   "id": "706564b2",
   "metadata": {},
   "source": [
    "### 3.4 Conclusiones parciales:"
   ]
  },
  {
   "cell_type": "markdown",
   "id": "988ff20c",
   "metadata": {},
   "source": [
    "Tras calcular la producción promedio de cada región podemos ver que, cuando se trata del promedio, ninguna región supera los 111.1 miles de barriles mínimos que se deben extraer para que un pozo sea rentable; sin embargo, la producción de la región 0 y 2 son las que más se acercan. "
   ]
  },
  {
   "cell_type": "markdown",
   "id": "eb5fb28a",
   "metadata": {},
   "source": [
    "## 4. Calculando las ganancias de un conjunto de 200 pozos de petróleo por región\n",
    "\n",
    "### 4.1 Elección de los mejores pozos por región: "
   ]
  },
  {
   "cell_type": "code",
   "execution_count": 27,
   "id": "325a72f5",
   "metadata": {},
   "outputs": [
    {
     "data": {
      "text/plain": [
       "93073    180.192010\n",
       "78948    175.758271\n",
       "95537    171.721784\n",
       "74946    168.782147\n",
       "95898    168.271148\n",
       "dtype: float64"
      ]
     },
     "execution_count": 27,
     "metadata": {},
     "output_type": "execute_result"
    }
   ],
   "source": [
    "# Creación de listas con los datos del modelo de ML.\n",
    "\n",
    "region_0_pred = pd.Series(predictions_valid_0, index = valid_target_0.index).sort_values(ascending = False)\n",
    "\n",
    "region_0_pred.head()"
   ]
  },
  {
   "cell_type": "code",
   "execution_count": 28,
   "id": "7e7184aa",
   "metadata": {},
   "outputs": [
    {
     "data": {
      "text/plain": [
       "55165    139.906443\n",
       "42738    139.853002\n",
       "19483    139.724252\n",
       "14041    139.704776\n",
       "33785    139.672587\n",
       "dtype: float64"
      ]
     },
     "execution_count": 28,
     "metadata": {},
     "output_type": "execute_result"
    }
   ],
   "source": [
    "region_1_pred = pd.Series(predictions_valid_1, index = valid_target_0.index).sort_values(ascending = False)\n",
    "\n",
    "region_1_pred.head()"
   ]
  },
  {
   "cell_type": "code",
   "execution_count": 29,
   "id": "ac7b164b",
   "metadata": {
    "scrolled": true
   },
   "outputs": [
    {
     "data": {
      "text/plain": [
       "6647     174.573336\n",
       "98619    166.796364\n",
       "29787    164.518817\n",
       "64380    164.513090\n",
       "17415    163.097615\n",
       "dtype: float64"
      ]
     },
     "execution_count": 29,
     "metadata": {},
     "output_type": "execute_result"
    }
   ],
   "source": [
    "region_2_pred = pd.Series(predictions_valid_2, index = valid_target_0.index).sort_values(ascending = False)\n",
    "\n",
    "region_2_pred.head()"
   ]
  },
  {
   "cell_type": "markdown",
   "id": "e39b2dba",
   "metadata": {},
   "source": [
    "### 4.2 Calculando los beneficios por región:"
   ]
  },
  {
   "cell_type": "code",
   "execution_count": 30,
   "id": "ed7c9dab",
   "metadata": {},
   "outputs": [],
   "source": [
    "# Función para calcular el ingreso por región tomando sus 200 pozos con mayor producción. \n",
    "\n",
    "def profit(predictions_valid, target, n_wells, print_results = True):\n",
    "    region_pred = pd.DataFrame({'predicted_product': predictions_valid, 'target_product': target})\n",
    "                               \n",
    "    top_200 = region_pred.sort_values(by = 'predicted_product', \n",
    "                                                          ascending = False).head(n_wells)\n",
    "    \n",
    "    investment = 100000000\n",
    "\n",
    "    total_reserved_volume = top_200['predicted_product'].sum()\n",
    "    potential_profit = (total_reserved_volume * 4500) - investment\n",
    "    \n",
    "    if print_results:\n",
    "        print(f\"\"\"\n",
    "        Total product: {total_reserved_volume.round(2)} thousands of barrels\n",
    "        Potencial profit: {potential_profit.round(2)} dollars\n",
    "        \"\"\")\n",
    "        \n",
    "    return potential_profit\n"
   ]
  },
  {
   "cell_type": "code",
   "execution_count": 31,
   "id": "ca153b95",
   "metadata": {},
   "outputs": [
    {
     "name": "stdout",
     "output_type": "stream",
     "text": [
      "Region 0:\n",
      "\n",
      "        Total product: 31034.79 thousands of barrels\n",
      "        Potencial profit: 39656545.12 dollars\n",
      "        \n",
      "\n",
      "Region 1:\n",
      "\n",
      "        Total product: 27755.76 thousands of barrels\n",
      "        Potencial profit: 24900928.92 dollars\n",
      "        \n",
      "\n",
      "Region 2:\n",
      "\n",
      "        Total product: 29943.44 thousands of barrels\n",
      "        Potencial profit: 34745494.0 dollars\n",
      "        \n"
     ]
    },
    {
     "data": {
      "text/plain": [
       "34745493.996762305"
      ]
     },
     "execution_count": 31,
     "metadata": {},
     "output_type": "execute_result"
    }
   ],
   "source": [
    "print('Region 0:')\n",
    "profit(predictions_valid_0, valid_target_0, 200)\n",
    "print()\n",
    "\n",
    "print('Region 1:')\n",
    "profit(predictions_valid_1, valid_target_1, 200)\n",
    "print()\n",
    "\n",
    "print('Region 2:')\n",
    "profit(predictions_valid_2, valid_target_2, 200)"
   ]
  },
  {
   "cell_type": "markdown",
   "id": "f615e390",
   "metadata": {},
   "source": [
    "### 4.3 Conclusiones parciales: "
   ]
  },
  {
   "cell_type": "markdown",
   "id": "b323167f",
   "metadata": {},
   "source": [
    "Gracias a los anteriores cálculos podemos observar que las predicciones frente a la producción de los 200 mejores pozos de cada región superan la cantidad mínima para hacerlos rentables. \n",
    "\n",
    "Según las predicciones: \n",
    "\n",
    "- La región con mayor producción y ganancias es la región 0, con una producción total de 31034.79 miles de barriles y un ingreso de 39,656,545.12 dólares con tan solo 200 pozos."
   ]
  },
  {
   "cell_type": "markdown",
   "id": "0df87ebe",
   "metadata": {},
   "source": [
    "## 5. Riesgos y ganancias por región"
   ]
  },
  {
   "cell_type": "code",
   "execution_count": 32,
   "id": "ae05150c",
   "metadata": {},
   "outputs": [],
   "source": [
    "def bootstrapping(target, predictions, sample_size):\n",
    "    \n",
    "    state = np.random.RandomState(123)\n",
    "    \n",
    "    profit_values = []\n",
    "\n",
    "    for i in range(1000):\n",
    "        target_subsample = target.sample(sample_size, replace = True, random_state = state)\n",
    "        predict_subsample = predictions[target_subsample.index]\n",
    "        \n",
    "        profit_values.append(profit(target_subsample, predict_subsample, 200, print_results = False))\n",
    "    \n",
    "    profit_values = pd.Series(profit_values)\n",
    "    \n",
    "    av_profit = profit_values.mean()\n",
    "    lower = profit_values.quantile(.025)\n",
    "    upper = profit_values.quantile(.975)\n",
    "    loss_risk = profit_values[profit_values < 0].count() / len(profit_values)\n",
    "    risk_of_loss_percentage = loss_risk * 100\n",
    "    \n",
    "    print('Average Profit:', av_profit.round(2))\n",
    "    print('Lower limit:', lower.round(2))\n",
    "    print('Upper limit:', upper.round(2)),\n",
    "    print('Loss risk:', loss_risk)\n",
    "    print('Loss risk percentage:', risk_of_loss_percentage)\n",
    "        \n",
    "    return bootstrapping\n"
   ]
  },
  {
   "cell_type": "code",
   "execution_count": 33,
   "id": "e31a6367",
   "metadata": {},
   "outputs": [
    {
     "name": "stdout",
     "output_type": "stream",
     "text": [
      "Region 0\n",
      "Average Profit: 24307011.26\n",
      "Lower limit: 20320645.28\n",
      "Upper limit: 28408608.29\n",
      "Loss risk: 0.0\n",
      "Loss risk percentage: 0.0\n",
      "\n",
      "Region 1\n",
      "Average Profit: 4802945.82\n",
      "Lower limit: 588932.62\n",
      "Upper limit: 8744248.19\n",
      "Loss risk: 0.009\n",
      "Loss risk percentage: 0.8999999999999999\n",
      "\n",
      "Region 2\n",
      "Average Profit: 26002682.74\n",
      "Lower limit: 21950639.82\n",
      "Upper limit: 29716725.68\n",
      "Loss risk: 0.0\n",
      "Loss risk percentage: 0.0\n",
      "\n"
     ]
    }
   ],
   "source": [
    "print('Region 0')\n",
    "bootstrapping(valid_target_0, region_0_pred, 500)\n",
    "print()\n",
    "print('Region 1')\n",
    "bootstrapping(valid_target_1, region_1_pred, 500)\n",
    "print()\n",
    "print('Region 2')\n",
    "bootstrapping(valid_target_2, region_2_pred, 500)\n",
    "print()"
   ]
  },
  {
   "cell_type": "markdown",
   "id": "24d653a2",
   "metadata": {},
   "source": [
    "## 6. Conclusiones"
   ]
  },
  {
   "cell_type": "markdown",
   "id": "542c8c2b",
   "metadata": {},
   "source": [
    "Tras un muestreo con la técnica bootstrapping se puede observar que: \n",
    "\n",
    "1. La única región con riesgo de pérdida es la 1, sin embargo esta no es tan significativa. \n",
    "2. La región con el margen de ganancia más prometedor es la 2, además el promedio de ganancias es el más alto al ser 26,002,682.82 dólares.\n",
    "\n",
    "Es por lo anterior que podemos concluir que la mejor región para abrir 200 pozos nuevos de petroleo es la 2, cambiando de parecer frente a los primeros cálculos que indicaban que los mayores ingresos se darían en la región 0, esta pasa entonces a ser la segunda mejor opción y se confirma de nuevo la idea de descartar la región 1 como opción. "
   ]
  }
 ],
 "metadata": {
  "kernelspec": {
   "display_name": "Python 3 (ipykernel)",
   "language": "python",
   "name": "python3"
  },
  "language_info": {
   "codemirror_mode": {
    "name": "ipython",
    "version": 3
   },
   "file_extension": ".py",
   "mimetype": "text/x-python",
   "name": "python",
   "nbconvert_exporter": "python",
   "pygments_lexer": "ipython3",
   "version": "3.11.5"
  }
 },
 "nbformat": 4,
 "nbformat_minor": 5
}
